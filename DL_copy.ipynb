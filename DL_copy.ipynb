{
  "cells": [
    {
      "cell_type": "markdown",
      "metadata": {
        "id": "view-in-github",
        "colab_type": "text"
      },
      "source": [
        "<a href=\"https://colab.research.google.com/github/RandomOgre101/dl-project/blob/main/DL_copy.ipynb\" target=\"_parent\"><img src=\"https://colab.research.google.com/assets/colab-badge.svg\" alt=\"Open In Colab\"/></a>"
      ]
    },
    {
      "cell_type": "code",
      "source": [
        "!unzip train_test.zip"
      ],
      "metadata": {
        "id": "JKUxDo-gj_IK"
      },
      "execution_count": null,
      "outputs": []
    },
    {
      "cell_type": "code",
      "source": [
        "from google.colab import drive\n",
        "drive.mount('/content/gdrive')"
      ],
      "metadata": {
        "colab": {
          "base_uri": "https://localhost:8080/"
        },
        "id": "tbJWnhOWpXpH",
        "outputId": "7ec4a932-ff6b-4322-98d7-35ce6f158289"
      },
      "execution_count": 2,
      "outputs": [
        {
          "output_type": "stream",
          "name": "stdout",
          "text": [
            "Mounted at /content/gdrive\n"
          ]
        }
      ]
    },
    {
      "cell_type": "code",
      "execution_count": 5,
      "metadata": {
        "id": "UGID9C4KjOCV"
      },
      "outputs": [],
      "source": [
        "import numpy as np\n",
        "import tensorflow as tf\n",
        "import glob\n",
        "from tensorflow.keras.preprocessing.image import ImageDataGenerator\n",
        "from tensorflow.keras.applications import VGG16, ResNet50, DenseNet121\n",
        "from tensorflow.keras.layers import Dense, GlobalAveragePooling2D\n",
        "from tensorflow.keras.models import Model\n",
        "from tensorflow.keras.optimizers import Adam\n",
        "import matplotlib.pyplot as plt"
      ]
    },
    {
      "cell_type": "code",
      "execution_count": 6,
      "metadata": {
        "id": "uxgPB8-ujOCX"
      },
      "outputs": [],
      "source": [
        "path = './'\n",
        "\n",
        "apple_pie_train = glob.glob(path + 'train/apple_pie/*')\n",
        "apple_pie_test = glob.glob(path + 'test/apple_pie/*')\n",
        "\n",
        "cannoli_train = glob.glob(path + 'train/cannoli/*')\n",
        "cannoli_test = glob.glob(path + 'test/cannoli/*')\n",
        "\n",
        "ramen_train = glob.glob(path + 'train/ramen/*')\n",
        "ramen_test = glob.glob(path + 'test/ramen/*')"
      ]
    },
    {
      "cell_type": "code",
      "execution_count": 7,
      "metadata": {
        "colab": {
          "base_uri": "https://localhost:8080/"
        },
        "id": "iCPMrFfijOCZ",
        "outputId": "11d1ea2f-c2e0-44f8-d784-e8eae6d93ee1"
      },
      "outputs": [
        {
          "output_type": "stream",
          "name": "stdout",
          "text": [
            "Analysis by class: \n",
            "\t\tTrain\tTest\n",
            "Apple Pie\t750\t250\n",
            "Cannoli\t\t750\t250\n",
            "Ramen\t\t750\t250\n"
          ]
        }
      ],
      "source": [
        "print(\"Analysis by class: \\n\\t\\tTrain\\tTest\")\n",
        "print(f\"Apple Pie\\t{len(apple_pie_train)}\\t{len(apple_pie_test)}\")\n",
        "print(f\"Cannoli\\t\\t{len(cannoli_train)}\\t{len(cannoli_test)}\")\n",
        "print(f\"Ramen\\t\\t{len(ramen_train)}\\t{len(ramen_test)}\")"
      ]
    },
    {
      "cell_type": "code",
      "source": [
        "class_to_category = {\n",
        "     0 : 'apple pie',\n",
        "     1 : 'cannoli',\n",
        "     2 : 'ramen'\n",
        "}"
      ],
      "metadata": {
        "id": "BqU6EyqtyH-G"
      },
      "execution_count": 26,
      "outputs": []
    },
    {
      "cell_type": "code",
      "execution_count": 9,
      "metadata": {
        "colab": {
          "base_uri": "https://localhost:8080/"
        },
        "id": "mXO_7Tf9jOCa",
        "outputId": "1e4ba483-731d-45cb-e699-0fb40b457cb8"
      },
      "outputs": [
        {
          "output_type": "stream",
          "name": "stdout",
          "text": [
            "Found 2250 images belonging to 3 classes.\n",
            "Found 750 images belonging to 3 classes.\n"
          ]
        }
      ],
      "source": [
        "train_datagen = ImageDataGenerator(featurewise_center=False,\n",
        "                 samplewise_center=False,\n",
        "                 featurewise_std_normalization=False,\n",
        "                 samplewise_std_normalization=False,\n",
        "                 zca_whitening=False,\n",
        "                 rotation_range=5,\n",
        "                 shear_range=0.2,\n",
        "                 zoom_range=0.2,\n",
        "                 width_shift_range=0.05,\n",
        "                 height_shift_range=0.05,\n",
        "                 channel_shift_range=0.,\n",
        "                 fill_mode='nearest',\n",
        "                 horizontal_flip=True,\n",
        "                 vertical_flip=False,\n",
        "                 rescale=1/255)\n",
        "train_generator = train_datagen.flow_from_directory(\n",
        "        path + 'train/',\n",
        "        target_size=(224,224),\n",
        "        class_mode='categorical',\n",
        "        batch_size=32)\n",
        "\n",
        "test_datagen = ImageDataGenerator(rescale=1/255)\n",
        "validation_generator = test_datagen.flow_from_directory(\n",
        "        path + 'test/',\n",
        "        target_size=(224,224),\n",
        "        class_mode='categorical',\n",
        "        batch_size=32)"
      ]
    },
    {
      "cell_type": "code",
      "execution_count": 10,
      "metadata": {
        "id": "cSAqsg7BjOCb"
      },
      "outputs": [],
      "source": [
        "def create_model(base_model):\n",
        "    x = base_model.output\n",
        "    x = GlobalAveragePooling2D()(x)\n",
        "    x = Dense(1024, activation='relu')(x)\n",
        "    predictions = Dense(3, activation='softmax')(x)\n",
        "    model = Model(inputs=base_model.input, outputs=predictions)\n",
        "    return model\n",
        "\n",
        "def ensemble(models, model_input):\n",
        "    outputs = [model(model_input) for model in models]\n",
        "    avg = tf.keras.layers.average(outputs)\n",
        "    model = Model(inputs=model_input, outputs=avg, name='ensemble')\n",
        "    return model"
      ]
    },
    {
      "cell_type": "code",
      "execution_count": 11,
      "metadata": {
        "colab": {
          "base_uri": "https://localhost:8080/"
        },
        "id": "byB148tajOCc",
        "outputId": "667584e1-12fa-4a61-9ad5-77c032e092b4"
      },
      "outputs": [
        {
          "output_type": "stream",
          "name": "stdout",
          "text": [
            "Downloading data from https://storage.googleapis.com/tensorflow/keras-applications/vgg16/vgg16_weights_tf_dim_ordering_tf_kernels_notop.h5\n",
            "58889256/58889256 [==============================] - 0s 0us/step\n",
            "Downloading data from https://storage.googleapis.com/tensorflow/keras-applications/resnet/resnet50_weights_tf_dim_ordering_tf_kernels_notop.h5\n",
            "94765736/94765736 [==============================] - 0s 0us/step\n",
            "Downloading data from https://storage.googleapis.com/tensorflow/keras-applications/densenet/densenet121_weights_tf_dim_ordering_tf_kernels_notop.h5\n",
            "29084464/29084464 [==============================] - 0s 0us/step\n"
          ]
        }
      ],
      "source": [
        "base_model1 = VGG16(weights='imagenet', include_top=False)\n",
        "model1 = create_model(base_model1)\n",
        "\n",
        "base_model2 = ResNet50(weights='imagenet', include_top=False)\n",
        "model2 = create_model(base_model2)\n",
        "\n",
        "base_model3 = DenseNet121(weights='imagenet', include_top=False)\n",
        "model3 = create_model(base_model3)"
      ]
    },
    {
      "cell_type": "code",
      "execution_count": 12,
      "metadata": {
        "id": "5Oq0k-77jOCc"
      },
      "outputs": [],
      "source": [
        "model1.compile(optimizer=Adam(learning_rate=0.0001), loss='categorical_crossentropy', metrics=['accuracy'])\n",
        "model2.compile(optimizer=Adam(learning_rate=0.0001), loss='categorical_crossentropy', metrics=['accuracy'])\n",
        "model3.compile(optimizer=Adam(learning_rate=0.0001), loss='categorical_crossentropy', metrics=['accuracy'])"
      ]
    },
    {
      "cell_type": "code",
      "execution_count": 13,
      "metadata": {
        "colab": {
          "base_uri": "https://localhost:8080/"
        },
        "id": "r6xZU4R0jOCc",
        "outputId": "f297f554-6c99-4f36-a0ac-becc4343dc5f"
      },
      "outputs": [
        {
          "output_type": "stream",
          "name": "stdout",
          "text": [
            "Epoch 1/10\n",
            "71/71 [==============================] - 75s 720ms/step - loss: 0.9885 - accuracy: 0.4782 - val_loss: 0.6561 - val_accuracy: 0.6987\n",
            "Epoch 2/10\n",
            "71/71 [==============================] - 45s 631ms/step - loss: 0.5601 - accuracy: 0.7609 - val_loss: 0.8020 - val_accuracy: 0.6653\n",
            "Epoch 3/10\n",
            "71/71 [==============================] - 47s 657ms/step - loss: 0.4794 - accuracy: 0.7982 - val_loss: 0.4809 - val_accuracy: 0.7800\n",
            "Epoch 4/10\n",
            "71/71 [==============================] - 45s 627ms/step - loss: 0.3795 - accuracy: 0.8436 - val_loss: 0.4109 - val_accuracy: 0.8187\n",
            "Epoch 5/10\n",
            "71/71 [==============================] - 44s 624ms/step - loss: 0.3447 - accuracy: 0.8627 - val_loss: 0.3763 - val_accuracy: 0.8333\n",
            "Epoch 6/10\n",
            "71/71 [==============================] - 45s 628ms/step - loss: 0.3030 - accuracy: 0.8822 - val_loss: 0.2806 - val_accuracy: 0.8800\n",
            "Epoch 7/10\n",
            "71/71 [==============================] - 45s 627ms/step - loss: 0.2414 - accuracy: 0.9133 - val_loss: 0.2534 - val_accuracy: 0.8933\n",
            "Epoch 8/10\n",
            "71/71 [==============================] - 45s 636ms/step - loss: 0.1796 - accuracy: 0.9280 - val_loss: 0.2569 - val_accuracy: 0.8933\n",
            "Epoch 9/10\n",
            "71/71 [==============================] - 45s 621ms/step - loss: 0.2134 - accuracy: 0.9236 - val_loss: 0.2591 - val_accuracy: 0.8987\n",
            "Epoch 10/10\n",
            "71/71 [==============================] - 45s 631ms/step - loss: 0.1601 - accuracy: 0.9391 - val_loss: 0.2382 - val_accuracy: 0.9187\n",
            "Epoch 1/10\n",
            "71/71 [==============================] - 86s 628ms/step - loss: 0.3605 - accuracy: 0.8551 - val_loss: 1.9771 - val_accuracy: 0.3333\n",
            "Epoch 2/10\n",
            "71/71 [==============================] - 42s 593ms/step - loss: 0.0850 - accuracy: 0.9747 - val_loss: 2.9594 - val_accuracy: 0.3333\n",
            "Epoch 3/10\n",
            "71/71 [==============================] - 43s 603ms/step - loss: 0.0623 - accuracy: 0.9804 - val_loss: 2.9278 - val_accuracy: 0.3333\n",
            "Epoch 4/10\n",
            "71/71 [==============================] - 42s 596ms/step - loss: 0.0684 - accuracy: 0.9733 - val_loss: 2.6049 - val_accuracy: 0.4107\n",
            "Epoch 5/10\n",
            "71/71 [==============================] - 43s 599ms/step - loss: 0.0426 - accuracy: 0.9844 - val_loss: 2.7312 - val_accuracy: 0.3307\n",
            "Epoch 6/10\n",
            "71/71 [==============================] - 42s 593ms/step - loss: 0.0706 - accuracy: 0.9778 - val_loss: 1.9299 - val_accuracy: 0.3573\n",
            "Epoch 7/10\n",
            "71/71 [==============================] - 42s 593ms/step - loss: 0.0962 - accuracy: 0.9720 - val_loss: 3.1917 - val_accuracy: 0.4147\n",
            "Epoch 8/10\n",
            "71/71 [==============================] - 42s 587ms/step - loss: 0.0600 - accuracy: 0.9769 - val_loss: 2.6042 - val_accuracy: 0.3493\n",
            "Epoch 9/10\n",
            "71/71 [==============================] - 42s 587ms/step - loss: 0.0335 - accuracy: 0.9893 - val_loss: 2.7264 - val_accuracy: 0.4027\n",
            "Epoch 10/10\n",
            "71/71 [==============================] - 42s 596ms/step - loss: 0.0166 - accuracy: 0.9960 - val_loss: 1.7018 - val_accuracy: 0.5520\n",
            "Epoch 1/10\n",
            "71/71 [==============================] - 122s 681ms/step - loss: 0.3783 - accuracy: 0.8529 - val_loss: 0.2330 - val_accuracy: 0.9213\n",
            "Epoch 2/10\n",
            "71/71 [==============================] - 43s 603ms/step - loss: 0.0883 - accuracy: 0.9684 - val_loss: 0.2520 - val_accuracy: 0.9120\n",
            "Epoch 3/10\n",
            "71/71 [==============================] - 43s 601ms/step - loss: 0.0632 - accuracy: 0.9791 - val_loss: 0.2729 - val_accuracy: 0.9120\n",
            "Epoch 4/10\n",
            "71/71 [==============================] - 42s 590ms/step - loss: 0.0499 - accuracy: 0.9836 - val_loss: 0.1822 - val_accuracy: 0.9453\n",
            "Epoch 5/10\n",
            "71/71 [==============================] - 43s 599ms/step - loss: 0.0311 - accuracy: 0.9889 - val_loss: 0.1509 - val_accuracy: 0.9533\n",
            "Epoch 6/10\n",
            "71/71 [==============================] - 43s 603ms/step - loss: 0.0278 - accuracy: 0.9898 - val_loss: 0.1885 - val_accuracy: 0.9427\n",
            "Epoch 7/10\n",
            "71/71 [==============================] - 42s 597ms/step - loss: 0.0278 - accuracy: 0.9907 - val_loss: 0.1674 - val_accuracy: 0.9493\n",
            "Epoch 8/10\n",
            "71/71 [==============================] - 42s 596ms/step - loss: 0.0334 - accuracy: 0.9893 - val_loss: 0.1904 - val_accuracy: 0.9440\n",
            "Epoch 9/10\n",
            "71/71 [==============================] - 43s 599ms/step - loss: 0.0302 - accuracy: 0.9889 - val_loss: 0.2201 - val_accuracy: 0.9400\n",
            "Epoch 10/10\n",
            "71/71 [==============================] - 43s 605ms/step - loss: 0.0220 - accuracy: 0.9938 - val_loss: 0.1568 - val_accuracy: 0.9587\n"
          ]
        },
        {
          "output_type": "execute_result",
          "data": {
            "text/plain": [
              "<keras.src.callbacks.History at 0x7d9dd41cce80>"
            ]
          },
          "metadata": {},
          "execution_count": 13
        }
      ],
      "source": [
        "model1.fit(train_generator, validation_data=validation_generator, epochs=10)\n",
        "model2.fit(train_generator, validation_data=validation_generator, epochs=10)\n",
        "model3.fit(train_generator, validation_data=validation_generator, epochs=10)"
      ]
    },
    {
      "cell_type": "code",
      "source": [
        "models = [model1, model2, model3]\n",
        "model_input = tf.keras.layers.Input(shape=(224, 224, 3))\n",
        "ensemble_model = ensemble(models, model_input)"
      ],
      "metadata": {
        "id": "PjFac2d7wnH1"
      },
      "execution_count": 14,
      "outputs": []
    },
    {
      "cell_type": "code",
      "source": [
        "model1.save_weights('model1_weights.h5')\n",
        "model2.save_weights('model2_weights.h5')\n",
        "model3.save_weights('model3_weights.h5')"
      ],
      "metadata": {
        "id": "EvHAkvX1wo-N"
      },
      "execution_count": 16,
      "outputs": []
    },
    {
      "cell_type": "code",
      "source": [
        "ensemble_model.compile(optimizer=Adam(learning_rate=0.0001), loss='categorical_crossentropy', metrics=['accuracy'])"
      ],
      "metadata": {
        "id": "MAtveSBAw2v1"
      },
      "execution_count": 18,
      "outputs": []
    },
    {
      "cell_type": "code",
      "source": [
        "ensemble_model.evaluate(validation_generator)"
      ],
      "metadata": {
        "colab": {
          "base_uri": "https://localhost:8080/"
        },
        "id": "i1-MPOt5w9fm",
        "outputId": "9d1d1b2c-b1ea-428d-d27c-ec737abba9ff"
      },
      "execution_count": 19,
      "outputs": [
        {
          "output_type": "stream",
          "name": "stdout",
          "text": [
            "24/24 [==============================] - 13s 291ms/step - loss: 0.2807 - accuracy: 0.9493\n"
          ]
        },
        {
          "output_type": "execute_result",
          "data": {
            "text/plain": [
              "[0.2806558907032013, 0.9493333101272583]"
            ]
          },
          "metadata": {},
          "execution_count": 19
        }
      ]
    },
    {
      "cell_type": "code",
      "source": [
        "from keras.preprocessing import image\n",
        "\n",
        "image_path = 'apple pie.jpg'\n",
        "img = image.load_img(image_path, target_size=(224, 224))\n",
        "img = image.img_to_array(img)\n",
        "img = np.expand_dims(img, axis=0)"
      ],
      "metadata": {
        "id": "34-lzk4WxKmO"
      },
      "execution_count": 21,
      "outputs": []
    },
    {
      "cell_type": "code",
      "source": [
        "prediction = ensemble_model.predict(img)"
      ],
      "metadata": {
        "colab": {
          "base_uri": "https://localhost:8080/"
        },
        "id": "ZMSFOZ0axpkm",
        "outputId": "068008d7-ef05-44f2-c4b0-169dbcf0fa6d"
      },
      "execution_count": 22,
      "outputs": [
        {
          "output_type": "stream",
          "name": "stdout",
          "text": [
            "1/1 [==============================] - 6s 6s/step\n"
          ]
        }
      ]
    },
    {
      "cell_type": "code",
      "source": [
        "prediction"
      ],
      "metadata": {
        "colab": {
          "base_uri": "https://localhost:8080/"
        },
        "id": "T4HAVdPSxyft",
        "outputId": "bc3310db-e883-48e9-dcdc-528d69eb4c41"
      },
      "execution_count": 23,
      "outputs": [
        {
          "output_type": "execute_result",
          "data": {
            "text/plain": [
              "array([[0.6666667 , 0.        , 0.33333334]], dtype=float32)"
            ]
          },
          "metadata": {},
          "execution_count": 23
        }
      ]
    },
    {
      "cell_type": "code",
      "source": [
        "class_to_category[int(np.argmax(prediction, axis=1))]"
      ],
      "metadata": {
        "colab": {
          "base_uri": "https://localhost:8080/",
          "height": 36
        },
        "id": "m1Pw8HfTx4YX",
        "outputId": "c8bc4ec9-72dc-41bf-bc04-f7442826ef9a"
      },
      "execution_count": 28,
      "outputs": [
        {
          "output_type": "execute_result",
          "data": {
            "text/plain": [
              "'apple pie'"
            ],
            "application/vnd.google.colaboratory.intrinsic+json": {
              "type": "string"
            }
          },
          "metadata": {},
          "execution_count": 28
        }
      ]
    },
    {
      "cell_type": "code",
      "source": [
        "image_path2 = 'cannoli.jpg'\n",
        "img2 = image.load_img(image_path2, target_size=(224, 224))\n",
        "img2 = image.img_to_array(img2)\n",
        "img2 = np.expand_dims(img2, axis=0)"
      ],
      "metadata": {
        "id": "2yCtL2ydyiZe"
      },
      "execution_count": 29,
      "outputs": []
    },
    {
      "cell_type": "code",
      "source": [
        "prediction2 = ensemble_model.predict(img2)"
      ],
      "metadata": {
        "colab": {
          "base_uri": "https://localhost:8080/"
        },
        "id": "Kq9HTcA0yrZX",
        "outputId": "70ffc87e-c014-47f2-b22d-605a1e12092b"
      },
      "execution_count": 31,
      "outputs": [
        {
          "output_type": "stream",
          "name": "stdout",
          "text": [
            "1/1 [==============================] - 0s 35ms/step\n"
          ]
        }
      ]
    },
    {
      "cell_type": "code",
      "source": [
        "class_to_category[int(np.argmax(prediction2, axis=1))]"
      ],
      "metadata": {
        "colab": {
          "base_uri": "https://localhost:8080/",
          "height": 36
        },
        "id": "FxFBbmaDyv-V",
        "outputId": "879358e6-1326-4d0c-8d90-2b8f6791b15d"
      },
      "execution_count": 32,
      "outputs": [
        {
          "output_type": "execute_result",
          "data": {
            "text/plain": [
              "'cannoli'"
            ],
            "application/vnd.google.colaboratory.intrinsic+json": {
              "type": "string"
            }
          },
          "metadata": {},
          "execution_count": 32
        }
      ]
    }
  ],
  "metadata": {
    "kernelspec": {
      "display_name": "Python 3",
      "name": "python3"
    },
    "language_info": {
      "codemirror_mode": {
        "name": "ipython",
        "version": 3
      },
      "file_extension": ".py",
      "mimetype": "text/x-python",
      "name": "python",
      "nbconvert_exporter": "python",
      "pygments_lexer": "ipython3",
      "version": "3.11.5"
    },
    "colab": {
      "provenance": [],
      "gpuType": "T4",
      "include_colab_link": true
    },
    "accelerator": "GPU"
  },
  "nbformat": 4,
  "nbformat_minor": 0
}