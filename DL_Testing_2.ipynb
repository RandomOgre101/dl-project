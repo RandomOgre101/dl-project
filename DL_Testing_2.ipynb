{
  "nbformat": 4,
  "nbformat_minor": 0,
  "metadata": {
    "colab": {
      "provenance": [],
      "gpuType": "T4",
      "authorship_tag": "ABX9TyPEw0fpdAScchmbpC0D2qta",
      "include_colab_link": true
    },
    "kernelspec": {
      "name": "python3",
      "display_name": "Python 3"
    },
    "language_info": {
      "name": "python"
    },
    "accelerator": "GPU"
  },
  "cells": [
    {
      "cell_type": "markdown",
      "metadata": {
        "id": "view-in-github",
        "colab_type": "text"
      },
      "source": [
        "<a href=\"https://colab.research.google.com/github/RandomOgre101/dl-project/blob/main/DL_Testing_2.ipynb\" target=\"_parent\"><img src=\"https://colab.research.google.com/assets/colab-badge.svg\" alt=\"Open In Colab\"/></a>"
      ]
    },
    {
      "cell_type": "code",
      "execution_count": 2,
      "metadata": {
        "id": "G5vQI3uO0JAi"
      },
      "outputs": [],
      "source": [
        "import numpy as np\n",
        "import tensorflow as tf\n",
        "from tensorflow.keras.preprocessing import image\n",
        "from tensorflow.keras.preprocessing.image import ImageDataGenerator\n",
        "from tensorflow.keras.applications import VGG16, InceptionV3, DenseNet121\n",
        "from tensorflow.keras.layers import Dense, GlobalAveragePooling2D\n",
        "from tensorflow.keras.models import Model\n",
        "from tensorflow.keras.optimizers import Adam\n",
        "import matplotlib.pyplot as plt\n",
        "from sklearn.metrics import accuracy_score, classification_report, confusion_matrix\n",
        "import itertools"
      ]
    },
    {
      "cell_type": "code",
      "source": [
        "class_to_category = {\n",
        "     0 : 'apple pie',\n",
        "     1 : 'cannoli',\n",
        "     2 : 'ramen'\n",
        "}"
      ],
      "metadata": {
        "id": "y5T5AN2f0YYa"
      },
      "execution_count": 3,
      "outputs": []
    },
    {
      "cell_type": "code",
      "source": [
        "base_model1 = VGG16(weights='imagenet', include_top=False, input_shape=(228, 228, 3))\n",
        "base_model2 = InceptionV3(weights='imagenet', include_top=False, input_shape=(228, 228, 3))\n",
        "base_model3 = DenseNet121(weights='imagenet', include_top=False, input_shape=(228, 228, 3))"
      ],
      "metadata": {
        "colab": {
          "base_uri": "https://localhost:8080/"
        },
        "id": "zhrMjlfy0aL6",
        "outputId": "a88fb1c6-e22c-4bc1-d004-6485f788a8c0"
      },
      "execution_count": 4,
      "outputs": [
        {
          "output_type": "stream",
          "name": "stdout",
          "text": [
            "Downloading data from https://storage.googleapis.com/tensorflow/keras-applications/vgg16/vgg16_weights_tf_dim_ordering_tf_kernels_notop.h5\n",
            "58889256/58889256 [==============================] - 0s 0us/step\n",
            "Downloading data from https://storage.googleapis.com/tensorflow/keras-applications/inception_v3/inception_v3_weights_tf_dim_ordering_tf_kernels_notop.h5\n",
            "87910968/87910968 [==============================] - 1s 0us/step\n",
            "Downloading data from https://storage.googleapis.com/tensorflow/keras-applications/densenet/densenet121_weights_tf_dim_ordering_tf_kernels_notop.h5\n",
            "29084464/29084464 [==============================] - 0s 0us/step\n"
          ]
        }
      ]
    },
    {
      "cell_type": "code",
      "source": [
        "model1 = tf.keras.models.Sequential()\n",
        "model1.add(tf.keras.layers.Flatten(input_shape=(7,7,512)))\n",
        "model1.add(tf.keras.layers.Dense(256, activation='relu', kernel_regularizer=tf.keras.regularizers.l2(0.001), input_dim=(7*7*512)))\n",
        "model1.add(tf.keras.layers.Dropout(0.5))\n",
        "model1.add(tf.keras.layers.Dense(3, activation='softmax'))\n",
        "model1.compile(optimizer = 'Adam' , loss = \"sparse_categorical_crossentropy\", metrics=[\"accuracy\"])\n",
        "model1.load_weights('./gdrive/MyDrive/model weights/model1-v3.h5')"
      ],
      "metadata": {
        "id": "wbiPUTqt0ciJ"
      },
      "execution_count": 5,
      "outputs": []
    },
    {
      "cell_type": "code",
      "source": [
        "model2 = tf.keras.models.Sequential()\n",
        "model2.add(tf.keras.layers.Flatten(input_shape=(5,5,2048)))\n",
        "model2.add(tf.keras.layers.Dense(256, activation='relu', kernel_regularizer=tf.keras.regularizers.l2(0.001), input_dim=(5*5*2048)))\n",
        "model2.add(tf.keras.layers.Dropout(0.5))\n",
        "model2.add(tf.keras.layers.Dense(3, activation='softmax'))\n",
        "model2.compile(optimizer = 'Adam' , loss = \"sparse_categorical_crossentropy\", metrics=[\"accuracy\"])\n",
        "model2.load_weights('./gdrive/MyDrive/model weights/model2-v3.h5')"
      ],
      "metadata": {
        "id": "nYkT4Wkv0dtS"
      },
      "execution_count": 6,
      "outputs": []
    },
    {
      "cell_type": "code",
      "source": [
        "model3 = tf.keras.models.Sequential()\n",
        "model3.add(tf.keras.layers.Flatten(input_shape=(7,7,1024)))\n",
        "model3.add(tf.keras.layers.Dense(256, activation='relu', kernel_regularizer=tf.keras.regularizers.l2(0.001), input_dim=(7*7*1024)))\n",
        "model3.add(tf.keras.layers.Dropout(0.5))\n",
        "model3.add(tf.keras.layers.Dense(3, activation='softmax'))\n",
        "model3.compile(optimizer = 'Adam' , loss = \"sparse_categorical_crossentropy\", metrics=[\"accuracy\"])\n",
        "model3.load_weights('./gdrive/MyDrive/model weights/model3-v3.h5')"
      ],
      "metadata": {
        "id": "ZQTcFyWh0e_i"
      },
      "execution_count": 7,
      "outputs": []
    },
    {
      "cell_type": "code",
      "source": [
        "def extract_features1(train_gen, sample_count):\n",
        "    features = np.zeros(shape=(sample_count, 7, 7, 512))\n",
        "    labels = np.zeros(shape=(sample_count))\n",
        "    batch_size = 32\n",
        "    i = 0\n",
        "    for input_batch, labels_batch in train_gen:\n",
        "        features_batch = base_model1.predict(input_batch)\n",
        "        features[i * batch_size: (i + 1) * batch_size] = features_batch\n",
        "        labels[i * batch_size: (i + 1) * batch_size] = labels_batch\n",
        "        i += 1\n",
        "        if i * batch_size >= sample_count:\n",
        "            break\n",
        "    return features, labels\n",
        "\n",
        "def extract_features2(train_gen, sample_count):\n",
        "    features = np.zeros(shape=(sample_count, 5, 5, 2048))\n",
        "    labels = np.zeros(shape=(sample_count))\n",
        "    batch_size = 32\n",
        "    i = 0\n",
        "    for input_batch, labels_batch in train_gen:\n",
        "        features_batch = base_model2.predict(input_batch)\n",
        "        features[i * batch_size: (i + 1) * batch_size] = features_batch\n",
        "        labels[i * batch_size: (i + 1) * batch_size] = labels_batch\n",
        "        i += 1\n",
        "        if i * batch_size >= sample_count:\n",
        "            break\n",
        "    return features, labels\n",
        "\n",
        "def extract_features3(train_gen, sample_count):\n",
        "    features = np.zeros(shape=(sample_count, 7, 7, 1024))\n",
        "    labels = np.zeros(shape=(sample_count))\n",
        "    batch_size = 32\n",
        "    i = 0\n",
        "    for input_batch, labels_batch in train_gen:\n",
        "        features_batch = base_model3.predict(input_batch)\n",
        "        features[i * batch_size: (i + 1) * batch_size] = features_batch\n",
        "        labels[i * batch_size: (i + 1) * batch_size] = labels_batch\n",
        "        i += 1\n",
        "        if i * batch_size >= sample_count:\n",
        "            break\n",
        "    return features, labels\n",
        "\n",
        "def ensemble(f1, f2, f3):\n",
        "    outputs = [model1.predict(f1), model2.predict(f2), model3.predict(f3)]\n",
        "    avg = tf.keras.layers.average(outputs)\n",
        "    return avg"
      ],
      "metadata": {
        "id": "TfwtM2pq08n6"
      },
      "execution_count": 8,
      "outputs": []
    },
    {
      "cell_type": "code",
      "source": [
        "path = './'\n",
        "seed = 42\n",
        "test_datagen = ImageDataGenerator(rescale=1/255)\n",
        "test_gen = test_datagen.flow_from_directory(\n",
        "        path + 'test/',\n",
        "        target_size=(228,228),\n",
        "        class_mode='binary',\n",
        "        batch_size=32,\n",
        "        seed = seed,\n",
        "        shuffle=False)"
      ],
      "metadata": {
        "colab": {
          "base_uri": "https://localhost:8080/"
        },
        "id": "-LuIWkQ20_Gp",
        "outputId": "b5bbb112-6d10-4a0a-e0e1-9cce65b00470"
      },
      "execution_count": 51,
      "outputs": [
        {
          "output_type": "stream",
          "name": "stdout",
          "text": [
            "Found 750 images belonging to 3 classes.\n"
          ]
        }
      ]
    },
    {
      "cell_type": "code",
      "source": [
        "f1,l1 = extract_features1(test_gen, 750)\n",
        "f2,l2 = extract_features2(test_gen, 750)\n",
        "f3,l3 = extract_features3(test_gen, 750)"
      ],
      "metadata": {
        "colab": {
          "base_uri": "https://localhost:8080/"
        },
        "id": "UiQT-aRS1JNJ",
        "outputId": "e03abf5c-ab25-4bef-d4ee-9337df04cba1"
      },
      "execution_count": 52,
      "outputs": [
        {
          "output_type": "stream",
          "name": "stdout",
          "text": [
            "1/1 [==============================] - 0s 31ms/step\n",
            "1/1 [==============================] - 0s 32ms/step\n",
            "1/1 [==============================] - 0s 31ms/step\n",
            "1/1 [==============================] - 0s 32ms/step\n",
            "1/1 [==============================] - 0s 29ms/step\n",
            "1/1 [==============================] - 0s 29ms/step\n",
            "1/1 [==============================] - 0s 42ms/step\n",
            "1/1 [==============================] - 0s 31ms/step\n",
            "1/1 [==============================] - 0s 30ms/step\n",
            "1/1 [==============================] - 0s 29ms/step\n",
            "1/1 [==============================] - 0s 28ms/step\n",
            "1/1 [==============================] - 0s 29ms/step\n",
            "1/1 [==============================] - 0s 28ms/step\n",
            "1/1 [==============================] - 0s 29ms/step\n",
            "1/1 [==============================] - 0s 29ms/step\n",
            "1/1 [==============================] - 0s 32ms/step\n",
            "1/1 [==============================] - 0s 30ms/step\n",
            "1/1 [==============================] - 0s 30ms/step\n",
            "1/1 [==============================] - 0s 30ms/step\n",
            "1/1 [==============================] - 0s 28ms/step\n",
            "1/1 [==============================] - 0s 29ms/step\n",
            "1/1 [==============================] - 0s 28ms/step\n",
            "1/1 [==============================] - 0s 28ms/step\n",
            "1/1 [==============================] - 0s 24ms/step\n",
            "1/1 [==============================] - 0s 36ms/step\n",
            "1/1 [==============================] - 0s 61ms/step\n",
            "1/1 [==============================] - 0s 55ms/step\n",
            "1/1 [==============================] - 0s 52ms/step\n",
            "1/1 [==============================] - 0s 51ms/step\n",
            "1/1 [==============================] - 0s 60ms/step\n",
            "1/1 [==============================] - 0s 55ms/step\n",
            "1/1 [==============================] - 0s 49ms/step\n",
            "1/1 [==============================] - 0s 52ms/step\n",
            "1/1 [==============================] - 0s 56ms/step\n",
            "1/1 [==============================] - 0s 56ms/step\n",
            "1/1 [==============================] - 0s 52ms/step\n",
            "1/1 [==============================] - 0s 44ms/step\n",
            "1/1 [==============================] - 0s 36ms/step\n",
            "1/1 [==============================] - 0s 42ms/step\n",
            "1/1 [==============================] - 0s 35ms/step\n",
            "1/1 [==============================] - 0s 42ms/step\n",
            "1/1 [==============================] - 0s 39ms/step\n",
            "1/1 [==============================] - 0s 36ms/step\n",
            "1/1 [==============================] - 0s 35ms/step\n",
            "1/1 [==============================] - 0s 44ms/step\n",
            "1/1 [==============================] - 0s 37ms/step\n",
            "1/1 [==============================] - 0s 47ms/step\n",
            "1/1 [==============================] - 0s 32ms/step\n",
            "1/1 [==============================] - 0s 40ms/step\n",
            "1/1 [==============================] - 0s 38ms/step\n",
            "1/1 [==============================] - 0s 44ms/step\n",
            "1/1 [==============================] - 0s 39ms/step\n",
            "1/1 [==============================] - 0s 44ms/step\n",
            "1/1 [==============================] - 0s 40ms/step\n",
            "1/1 [==============================] - 0s 46ms/step\n",
            "1/1 [==============================] - 0s 38ms/step\n",
            "1/1 [==============================] - 0s 39ms/step\n",
            "1/1 [==============================] - 0s 41ms/step\n",
            "1/1 [==============================] - 0s 37ms/step\n",
            "1/1 [==============================] - 0s 38ms/step\n",
            "1/1 [==============================] - 0s 39ms/step\n",
            "1/1 [==============================] - 0s 38ms/step\n",
            "1/1 [==============================] - 0s 37ms/step\n",
            "1/1 [==============================] - 0s 39ms/step\n",
            "1/1 [==============================] - 0s 39ms/step\n",
            "1/1 [==============================] - 0s 39ms/step\n",
            "1/1 [==============================] - 0s 41ms/step\n",
            "1/1 [==============================] - 0s 39ms/step\n",
            "1/1 [==============================] - 0s 39ms/step\n",
            "1/1 [==============================] - 0s 40ms/step\n",
            "1/1 [==============================] - 0s 41ms/step\n",
            "1/1 [==============================] - 0s 34ms/step\n"
          ]
        }
      ]
    },
    {
      "cell_type": "code",
      "source": [
        "pred = ensemble(f1, f2, f3)"
      ],
      "metadata": {
        "colab": {
          "base_uri": "https://localhost:8080/"
        },
        "id": "UuWsj40563Q5",
        "outputId": "c3b331a5-2832-404e-ec69-3bc74e69a827"
      },
      "execution_count": 54,
      "outputs": [
        {
          "output_type": "stream",
          "name": "stdout",
          "text": [
            "24/24 [==============================] - 0s 3ms/step\n",
            "24/24 [==============================] - 0s 5ms/step\n",
            "24/24 [==============================] - 0s 4ms/step\n"
          ]
        }
      ]
    },
    {
      "cell_type": "code",
      "source": [
        "y_pred = np.argmax(pred,axis=1)\n",
        "\n",
        "print('Accuracy score: {:.1f}%'.format(accuracy_score(y_pred,l1)*100))"
      ],
      "metadata": {
        "colab": {
          "base_uri": "https://localhost:8080/"
        },
        "id": "mMMUV2QV69ix",
        "outputId": "e2d53eb0-017e-4cbd-bc5f-6c7aa9f6c8b2"
      },
      "execution_count": 57,
      "outputs": [
        {
          "output_type": "stream",
          "name": "stdout",
          "text": [
            "Accuracy score: 94.3%\n"
          ]
        }
      ]
    },
    {
      "cell_type": "code",
      "source": [
        "food = ['apple pie', 'cannoli', 'ramen']\n",
        "classification_report(l1, y_pred, target_names=food)\n",
        "print('              precision    recall  f1-score   support\\n\\n   apple pie       0.93      0.91      0.92       250\\n     cannoli       0.92      0.92      0.92       250\\n       ramen       0.98      0.99      0.98       250\\n\\n    accuracy                           0.94       750\\n   macro avg       0.94      0.94      0.94       750\\nweighted avg       0.94      0.94      0.94       750\\n')"
      ],
      "metadata": {
        "colab": {
          "base_uri": "https://localhost:8080/"
        },
        "id": "v-XJfaxL8Qdx",
        "outputId": "d2ffc393-d986-4c16-9e77-7014e1f2f0fd"
      },
      "execution_count": 64,
      "outputs": [
        {
          "output_type": "stream",
          "name": "stdout",
          "text": [
            "              precision    recall  f1-score   support\n",
            "\n",
            "   apple pie       0.93      0.91      0.92       250\n",
            "     cannoli       0.92      0.92      0.92       250\n",
            "       ramen       0.98      0.99      0.98       250\n",
            "\n",
            "    accuracy                           0.94       750\n",
            "   macro avg       0.94      0.94      0.94       750\n",
            "weighted avg       0.94      0.94      0.94       750\n",
            "\n"
          ]
        }
      ]
    },
    {
      "cell_type": "code",
      "source": [
        "def plot_confusion_matrix(cm, labels):\n",
        "    plt.imshow(cm, interpolation='nearest', cmap=plt.cm.Blues)\n",
        "    plt.title('Confusion Matrix')\n",
        "    plt.colorbar()\n",
        "    tick_marks = np.arange(len(labels))\n",
        "    plt.yticks(tick_marks, labels, rotation=90, verticalalignment=\"center\")\n",
        "    plt.xticks(tick_marks, labels)\n",
        "    cm = cm.astype('float') / cm.sum(axis=1)[:, np.newaxis]\n",
        "    print(cm)\n",
        "    fmt = '.2f'\n",
        "    thresh = cm.max() / 2.\n",
        "    for i, j in itertools.product(range(cm.shape[0]), range(cm.shape[1])):\n",
        "        plt.text(j, i, format(cm[i ,j], fmt), horizontalalignment=\"center\", color=\"white\" if cm[i, j] > thresh else \"black\")\n",
        "\n",
        "    plt.tight_layout()\n",
        "    plt.ylabel(\"True label\")\n",
        "    plt.xlabel(\"Predicted label\")"
      ],
      "metadata": {
        "id": "VUw0wKF07WGS"
      },
      "execution_count": 58,
      "outputs": []
    },
    {
      "cell_type": "code",
      "source": [
        "cm = confusion_matrix(l1, y_pred)\n",
        "plot_confusion_matrix(cm, food)"
      ],
      "metadata": {
        "colab": {
          "base_uri": "https://localhost:8080/",
          "height": 558
        },
        "id": "aVs85gR27msa",
        "outputId": "55f7f4eb-cec5-469a-82a3-843937e75f23"
      },
      "execution_count": 59,
      "outputs": [
        {
          "output_type": "stream",
          "name": "stdout",
          "text": [
            "[[0.912 0.076 0.012]\n",
            " [0.064 0.924 0.012]\n",
            " [0.008 0.    0.992]]\n"
          ]
        },
        {
          "output_type": "display_data",
          "data": {
            "text/plain": [
              "<Figure size 640x480 with 2 Axes>"
            ],
            "image/png": "[encoded data removed]"
          },
          "metadata": {}
        }
      ]
    },
    {
      "cell_type": "code",
      "source": [
        "print('              precision    recall  f1-score   support\\n\\n   apple pie       0.93      0.91      0.92       250\\n     cannoli       0.92      0.92      0.92       250\\n       ramen       0.98      0.99      0.98       250\\n\\n    accuracy                           0.94       750\\n   macro avg       0.94      0.94      0.94       750\\nweighted avg       0.94      0.94      0.94       750\\n')"
      ],
      "metadata": {
        "colab": {
          "base_uri": "https://localhost:8080/"
        },
        "id": "TYBWtxHC8D9K",
        "outputId": "301a6305-641c-4a03-b674-604d2cf59717"
      },
      "execution_count": 61,
      "outputs": [
        {
          "output_type": "stream",
          "name": "stdout",
          "text": [
            "              precision    recall  f1-score   support\n",
            "\n",
            "   apple pie       0.93      0.91      0.92       250\n",
            "     cannoli       0.92      0.92      0.92       250\n",
            "       ramen       0.98      0.99      0.98       250\n",
            "\n",
            "    accuracy                           0.94       750\n",
            "   macro avg       0.94      0.94      0.94       750\n",
            "weighted avg       0.94      0.94      0.94       750\n",
            "\n"
          ]
        }
      ]
    }
  ]
}